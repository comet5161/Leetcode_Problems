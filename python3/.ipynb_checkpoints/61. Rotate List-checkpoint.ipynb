{
 "cells": [
  {
   "cell_type": "code",
   "execution_count": null,
   "metadata": {},
   "outputs": [],
   "source": [
    "# Definition for singly-linked list.\n",
    "# class ListNode:\n",
    "#     def __init__(self, x):\n",
    "#         self.val = x\n",
    "#         self.next = None\n",
    "\n",
    "class Solution:\n",
    "    def getLen(self, head: ListNode):\n",
    "        n = 0;\n",
    "        while(head):\n",
    "            n += 1\n",
    "            head = head.next\n",
    "        return n\n",
    "    def rotateRight(self, head: ListNode, k: int) -> ListNode:\n",
    "        p = head\n",
    "        i = 0\n",
    "        n = self.getLen(head)\n",
    "        if(head == None):\n",
    "            return None\n",
    "        k %= n\n",
    "        p = head\n",
    "        q = head # p和q为滑动窗口两端。\n",
    "        for i in  range(k):\n",
    "            p = p.next\n",
    "        while(p.next != None):\n",
    "            p = p.next\n",
    "            q = q.next\n",
    "        p.next = head\n",
    "        head = q.next\n",
    "        q.next = None\n",
    "        return head"
   ]
  },
  {
   "cell_type": "code",
   "execution_count": null,
   "metadata": {},
   "outputs": [],
   "source": []
  }
 ],
 "metadata": {
  "kernelspec": {
   "display_name": "Python 3",
   "language": "python",
   "name": "python3"
  },
  "language_info": {
   "codemirror_mode": {
    "name": "ipython",
    "version": 3
   },
   "file_extension": ".py",
   "mimetype": "text/x-python",
   "name": "python",
   "nbconvert_exporter": "python",
   "pygments_lexer": "ipython3",
   "version": "3.7.3"
  },
  "varInspector": {
   "cols": {
    "lenName": 16,
    "lenType": 16,
    "lenVar": 40
   },
   "kernels_config": {
    "python": {
     "delete_cmd_postfix": "",
     "delete_cmd_prefix": "del ",
     "library": "var_list.py",
     "varRefreshCmd": "print(var_dic_list())"
    },
    "r": {
     "delete_cmd_postfix": ") ",
     "delete_cmd_prefix": "rm(",
     "library": "var_list.r",
     "varRefreshCmd": "cat(var_dic_list()) "
    }
   },
   "types_to_exclude": [
    "module",
    "function",
    "builtin_function_or_method",
    "instance",
    "_Feature"
   ],
   "window_display": false
  }
 },
 "nbformat": 4,
 "nbformat_minor": 2
}
